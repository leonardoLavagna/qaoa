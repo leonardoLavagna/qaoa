{
 "cells": [
  {
   "cell_type": "markdown",
   "id": "0c94e598",
   "metadata": {},
   "source": [
    "# qaoa_vanilla\n",
    "\n",
    "In this notebook we will show how a simple optimization loop looks like in a qaoa \"vanilla\" approach."
   ]
  },
  {
   "cell_type": "markdown",
   "id": "069d79f3-9e92-4175-a9b1-eeb749e8b083",
   "metadata": {},
   "source": [
    "## Setup\n",
    "\n",
    "First of all set up the correct paths and import the libraries and modules needed."
   ]
  },
  {
   "cell_type": "markdown",
   "id": "b39b141f",
   "metadata": {},
   "source": [
    "### Paths"
   ]
  },
  {
   "cell_type": "code",
   "execution_count": 1,
   "id": "63cec009",
   "metadata": {},
   "outputs": [],
   "source": [
    "import os\n",
    "os.chdir(\"..\")"
   ]
  },
  {
   "cell_type": "markdown",
   "id": "8aa07d7a-6e7d-4a74-8fb3-ac209e9beede",
   "metadata": {},
   "source": [
    "```\n",
    "qaoa\n",
    "    |\n",
    "    |_ config.py\n",
    "    |\n",
    "    |_requirements.txt\n",
    "    |\n",
    "    |_ classes\n",
    "        |\n",
    "        |_ Problems.py\n",
    "        |\n",
    "        |_ Qaoa.py\n",
    "    |\n",
    "    |_ functions\n",
    "        |\n",
    "        |_ maxcut_utilities.py\n",
    "        |\n",
    "        |_ qaoa_utilities.py\n",
    "        |\n",
    "        |_ optimizers.py\n",
    "        |\n",
    "        |_ symetry_utilities.py\n",
    "    |\n",
    "    |_ data\n",
    "        |\n",
    "        |_ generate_data.ipynb\n",
    "        |\n",
    "        |_ graph_0.nx\n",
    "        .\n",
    "        .\n",
    "        .\n",
    "        |_ graph_15.nx\n",
    "    |\n",
    "    .\n",
    "    .\n",
    "    .\n",
    "```"
   ]
  },
  {
   "cell_type": "markdown",
   "id": "0f49b9be",
   "metadata": {},
   "source": [
    "### Libraries"
   ]
  },
  {
   "cell_type": "code",
   "execution_count": 2,
   "id": "7ab1f6f9-6932-483d-ad8d-81c26ec5c78c",
   "metadata": {},
   "outputs": [],
   "source": [
    "from classes import Qaoa as Q\n",
    "from classes import Problems as P\n",
    "from functions import qaoa_utilities as qaoa_utils\n",
    "from functions import maxcut_utilities as mcut_utils\n",
    "from functions import qaoa_optimizers as optims"
   ]
  },
  {
   "cell_type": "code",
   "execution_count": 3,
   "id": "35d75fad-b018-497e-8dde-28abdee65ec8",
   "metadata": {},
   "outputs": [],
   "source": [
    "import numpy as np\n",
    "import pickle\n",
    "import sys"
   ]
  },
  {
   "cell_type": "code",
   "execution_count": 4,
   "id": "9e051642-22be-48ef-b643-d170c6eae398",
   "metadata": {},
   "outputs": [],
   "source": [
    "from config import *"
   ]
  },
  {
   "cell_type": "markdown",
   "id": "9d3dc3f6",
   "metadata": {},
   "source": [
    "### Data loading"
   ]
  },
  {
   "cell_type": "markdown",
   "id": "d33ceaa2-39f0-45a7-acc1-c53db45dc0bd",
   "metadata": {},
   "source": [
    "Throughout the project we will use the following graphs:\n",
    "\n",
    "- $\\small{\\texttt{graph}\\_0}\\dots,\\small{\\texttt{graph}\\_3}$ are **complete graphs** with $n=4,6,8,10$ nodes;\n",
    "- $\\small{\\texttt{graph}\\_4}\\dots,\\small{\\texttt{graph}\\_7}$ are **Erdos-Renyi graphs** with $n=4,6,8,10$ nodes and $p=0.5$;\n",
    "- $\\small{\\texttt{graph}\\_8}\\dots,\\small{\\texttt{graph}\\_11}$ are **Complete (full) rary trees** with $n=4,6,8,10$ nodes and branching factor of 2;\n",
    "- $\\small{\\texttt{graph}\\_12}\\dots,\\small{\\texttt{graph}\\_15}$ are **random regular graphs** with $n=4,6,8,10$ nodes with degree of 3.\n",
    "\n",
    "We will also compute the approximation ratio as a performance metric, which is based on the results of a qaoa execution and the true optimal value stored in the results directory."
   ]
  },
  {
   "cell_type": "code",
   "execution_count": 5,
   "id": "d97f0c8b-4784-4ee3-ba21-419b9922b389",
   "metadata": {},
   "outputs": [],
   "source": [
    "# Graphs\n",
    "\n",
    "graphs = []\n",
    "for i in range(num_graphs):\n",
    "    sys.path.append(\"classes/\")\n",
    "    path = \"data/graph_\"+str(i)+\".nx\"\n",
    "    with open(path, 'rb') as f:\n",
    "        g = pickle.load(f)\n",
    "    graphs.append(g)"
   ]
  },
  {
   "cell_type": "markdown",
   "id": "13755046-1e01-4baa-ae4c-c32c2c8438a1",
   "metadata": {},
   "source": [
    "### Qaoa class instantiation"
   ]
  },
  {
   "cell_type": "code",
   "execution_count": 6,
   "id": "d31a122f-700e-4e45-aadb-b1aef6437e6e",
   "metadata": {},
   "outputs": [],
   "source": [
    "# Select a graph \n",
    "G = graphs[idx]"
   ]
  },
  {
   "cell_type": "code",
   "execution_count": 7,
   "id": "0d3348cb-4f4d-41b9-a4bc-af939752793b",
   "metadata": {},
   "outputs": [
    {
     "data": {
      "image/png": "[encoded data removed]",
      "text/plain": [
       "<Figure size 640x480 with 1 Axes>"
      ]
     },
     "metadata": {},
     "output_type": "display_data"
    }
   ],
   "source": [
    "G.get_draw()"
   ]
  },
  {
   "cell_type": "code",
   "execution_count": 8,
   "id": "5054ac49-8798-46fb-b60d-73876bc7ce61",
   "metadata": {},
   "outputs": [],
   "source": [
    "# Generate initial random angles\n",
    "betas = qaoa_utils.generate_parameters(n=p, k=1, seed=seed)\n",
    "gammas = qaoa_utils.generate_parameters(n=p, k=2, seed=seed)"
   ]
  },
  {
   "cell_type": "code",
   "execution_count": 9,
   "id": "c0aebd61-9781-44b7-a686-feddc2ce0838",
   "metadata": {},
   "outputs": [],
   "source": [
    "# Instantiate QAOA \n",
    "qaoa = Q.Qaoa(p=p, G=G, betas=betas, gammas=gammas, mixer=mixer, seed=seed, verbose=verbose)"
   ]
  },
  {
   "cell_type": "code",
   "execution_count": 10,
   "id": "6a453538-bd36-49eb-be45-200af21d3033",
   "metadata": {},
   "outputs": [
    {
     "data": {
      "text/html": [
       "<pre style=\"word-wrap: normal;white-space: pre;background: #fff0;line-height: 1.1;font-family: &quot;Courier New&quot;,Courier,monospace\">     ┌───┐ ░                                                            »\n",
       "q_0: ┤ H ├─░───■─────────────────────■────■─────────────────────■────■──»\n",
       "     ├───┤ ░ ┌─┴─┐┌───────────────┐┌─┴─┐  │                     │    │  »\n",
       "q_1: ┤ H ├─░─┤ X ├┤ Rz(params[2]) ├┤ X ├──┼─────────────────────┼────┼──»\n",
       "     ├───┤ ░ └───┘└───────────────┘└───┘┌─┴─┐┌───────────────┐┌─┴─┐  │  »\n",
       "q_2: ┤ H ├─░────────────────────────────┤ X ├┤ Rz(params[2]) ├┤ X ├──┼──»\n",
       "     ├───┤ ░                            └───┘└───────────────┘└───┘┌─┴─┐»\n",
       "q_3: ┤ H ├─░───────────────────────────────────────────────────────┤ X ├»\n",
       "     └───┘ ░                                                       └───┘»\n",
       "c: 4/═══════════════════════════════════════════════════════════════════»\n",
       "                                                                        »\n",
       "«                                                                            »\n",
       "«q_0: ────────────────────────────────────■──────────────────────────────────»\n",
       "«                                         │                                  »\n",
       "«q_1: ────────■───────────────────────────┼────■────■─────────────────────■──»\n",
       "«           ┌─┴─┐      ┌───────────────┐  │  ┌─┴─┐  │                     │  »\n",
       "«q_2: ──────┤ X ├──────┤ Rz(params[2]) ├──┼──┤ X ├──┼─────────────────────┼──»\n",
       "«     ┌─────┴───┴─────┐└───────────────┘┌─┴─┐└───┘┌─┴─┐┌───────────────┐┌─┴─┐»\n",
       "«q_3: ┤ Rz(params[2]) ├─────────────────┤ X ├─────┤ X ├┤ Rz(params[2]) ├┤ X ├»\n",
       "«     └───────────────┘                 └───┘     └───┘└───────────────┘└───┘»\n",
       "«c: 4/═══════════════════════════════════════════════════════════════════════»\n",
       "«                                                                            »\n",
       "«                                 ░ ┌───────────────┐ ░  ░      »\n",
       "«q_0: ────────────────────────────░─┤ Rx(params[0]) ├─░──░───■──»\n",
       "«                                 ░ ├───────────────┤ ░  ░ ┌─┴─┐»\n",
       "«q_1: ────────────────────────────░─┤ Rx(params[0]) ├─░──░─┤ X ├»\n",
       "«                                 ░ ├───────────────┤ ░  ░ └───┘»\n",
       "«q_2: ──■─────────────────────■───░─┤ Rx(params[0]) ├─░──░──────»\n",
       "«     ┌─┴─┐┌───────────────┐┌─┴─┐ ░ ├───────────────┤ ░  ░      »\n",
       "«q_3: ┤ X ├┤ Rz(params[2]) ├┤ X ├─░─┤ Rx(params[0]) ├─░──░──────»\n",
       "«     └───┘└───────────────┘└───┘ ░ └───────────────┘ ░  ░      »\n",
       "«c: 4/══════════════════════════════════════════════════════════»\n",
       "«                                                               »\n",
       "«                                                                            »\n",
       "«q_0: ───────────────────■────■─────────────────────■────■───────────────────»\n",
       "«     ┌───────────────┐┌─┴─┐  │                     │    │                   »\n",
       "«q_1: ┤ Rz(params[3]) ├┤ X ├──┼─────────────────────┼────┼──────────■────────»\n",
       "«     └───────────────┘└───┘┌─┴─┐┌───────────────┐┌─┴─┐  │        ┌─┴─┐      »\n",
       "«q_2: ──────────────────────┤ X ├┤ Rz(params[3]) ├┤ X ├──┼────────┤ X ├──────»\n",
       "«                           └───┘└───────────────┘└───┘┌─┴─┐┌─────┴───┴─────┐»\n",
       "«q_3: ─────────────────────────────────────────────────┤ X ├┤ Rz(params[3]) ├»\n",
       "«                                                      └───┘└───────────────┘»\n",
       "«c: 4/═══════════════════════════════════════════════════════════════════════»\n",
       "«                                                                            »\n",
       "«                                                                »\n",
       "«q_0: ───────────────────■───────────────────────────────────────»\n",
       "«                        │                                       »\n",
       "«q_1: ───────────────────┼────■────■─────────────────────■───────»\n",
       "«     ┌───────────────┐  │  ┌─┴─┐  │                     │       »\n",
       "«q_2: ┤ Rz(params[3]) ├──┼──┤ X ├──┼─────────────────────┼────■──»\n",
       "«     └───────────────┘┌─┴─┐└───┘┌─┴─┐┌───────────────┐┌─┴─┐┌─┴─┐»\n",
       "«q_3: ─────────────────┤ X ├─────┤ X ├┤ Rz(params[3]) ├┤ X ├┤ X ├»\n",
       "«                      └───┘     └───┘└───────────────┘└───┘└───┘»\n",
       "«c: 4/═══════════════════════════════════════════════════════════»\n",
       "«                                                                »\n",
       "«                            ░ ┌───────────────┐ ░  ░ ┌─┐         \n",
       "«q_0: ───────────────────────░─┤ Rx(params[1]) ├─░──░─┤M├─────────\n",
       "«                            ░ ├───────────────┤ ░  ░ └╥┘┌─┐      \n",
       "«q_1: ───────────────────────░─┤ Rx(params[1]) ├─░──░──╫─┤M├──────\n",
       "«                            ░ ├───────────────┤ ░  ░  ║ └╥┘┌─┐   \n",
       "«q_2: ───────────────────■───░─┤ Rx(params[1]) ├─░──░──╫──╫─┤M├───\n",
       "«     ┌───────────────┐┌─┴─┐ ░ ├───────────────┤ ░  ░  ║  ║ └╥┘┌─┐\n",
       "«q_3: ┤ Rz(params[3]) ├┤ X ├─░─┤ Rx(params[1]) ├─░──░──╫──╫──╫─┤M├\n",
       "«     └───────────────┘└───┘ ░ └───────────────┘ ░  ░  ║  ║  ║ └╥┘\n",
       "«c: 4/═════════════════════════════════════════════════╩══╩══╩══╩═\n",
       "«                                                      0  1  2  3 </pre>"
      ],
      "text/plain": [
       "     ┌───┐ ░                                                            »\n",
       "q_0: ┤ H ├─░───■─────────────────────■────■─────────────────────■────■──»\n",
       "     ├───┤ ░ ┌─┴─┐┌───────────────┐┌─┴─┐  │                     │    │  »\n",
       "q_1: ┤ H ├─░─┤ X ├┤ Rz(params[2]) ├┤ X ├──┼─────────────────────┼────┼──»\n",
       "     ├───┤ ░ └───┘└───────────────┘└───┘┌─┴─┐┌───────────────┐┌─┴─┐  │  »\n",
       "q_2: ┤ H ├─░────────────────────────────┤ X ├┤ Rz(params[2]) ├┤ X ├──┼──»\n",
       "     ├───┤ ░                            └───┘└───────────────┘└───┘┌─┴─┐»\n",
       "q_3: ┤ H ├─░───────────────────────────────────────────────────────┤ X ├»\n",
       "     └───┘ ░                                                       └───┘»\n",
       "c: 4/═══════════════════════════════════════════════════════════════════»\n",
       "                                                                        »\n",
       "«                                                                            »\n",
       "«q_0: ────────────────────────────────────■──────────────────────────────────»\n",
       "«                                         │                                  »\n",
       "«q_1: ────────■───────────────────────────┼────■────■─────────────────────■──»\n",
       "«           ┌─┴─┐      ┌───────────────┐  │  ┌─┴─┐  │                     │  »\n",
       "«q_2: ──────┤ X ├──────┤ Rz(params[2]) ├──┼──┤ X ├──┼─────────────────────┼──»\n",
       "«     ┌─────┴───┴─────┐└───────────────┘┌─┴─┐└───┘┌─┴─┐┌───────────────┐┌─┴─┐»\n",
       "«q_3: ┤ Rz(params[2]) ├─────────────────┤ X ├─────┤ X ├┤ Rz(params[2]) ├┤ X ├»\n",
       "«     └───────────────┘                 └───┘     └───┘└───────────────┘└───┘»\n",
       "«c: 4/═══════════════════════════════════════════════════════════════════════»\n",
       "«                                                                            »\n",
       "«                                 ░ ┌───────────────┐ ░  ░      »\n",
       "«q_0: ────────────────────────────░─┤ Rx(params[0]) ├─░──░───■──»\n",
       "«                                 ░ ├───────────────┤ ░  ░ ┌─┴─┐»\n",
       "«q_1: ────────────────────────────░─┤ Rx(params[0]) ├─░──░─┤ X ├»\n",
       "«                                 ░ ├───────────────┤ ░  ░ └───┘»\n",
       "«q_2: ──■─────────────────────■───░─┤ Rx(params[0]) ├─░──░──────»\n",
       "«     ┌─┴─┐┌───────────────┐┌─┴─┐ ░ ├───────────────┤ ░  ░      »\n",
       "«q_3: ┤ X ├┤ Rz(params[2]) ├┤ X ├─░─┤ Rx(params[0]) ├─░──░──────»\n",
       "«     └───┘└───────────────┘└───┘ ░ └───────────────┘ ░  ░      »\n",
       "«c: 4/══════════════════════════════════════════════════════════»\n",
       "«                                                               »\n",
       "«                                                                            »\n",
       "«q_0: ───────────────────■────■─────────────────────■────■───────────────────»\n",
       "«     ┌───────────────┐┌─┴─┐  │                     │    │                   »\n",
       "«q_1: ┤ Rz(params[3]) ├┤ X ├──┼─────────────────────┼────┼──────────■────────»\n",
       "«     └───────────────┘└───┘┌─┴─┐┌───────────────┐┌─┴─┐  │        ┌─┴─┐      »\n",
       "«q_2: ──────────────────────┤ X ├┤ Rz(params[3]) ├┤ X ├──┼────────┤ X ├──────»\n",
       "«                           └───┘└───────────────┘└───┘┌─┴─┐┌─────┴───┴─────┐»\n",
       "«q_3: ─────────────────────────────────────────────────┤ X ├┤ Rz(params[3]) ├»\n",
       "«                                                      └───┘└───────────────┘»\n",
       "«c: 4/═══════════════════════════════════════════════════════════════════════»\n",
       "«                                                                            »\n",
       "«                                                                »\n",
       "«q_0: ───────────────────■───────────────────────────────────────»\n",
       "«                        │                                       »\n",
       "«q_1: ───────────────────┼────■────■─────────────────────■───────»\n",
       "«     ┌───────────────┐  │  ┌─┴─┐  │                     │       »\n",
       "«q_2: ┤ Rz(params[3]) ├──┼──┤ X ├──┼─────────────────────┼────■──»\n",
       "«     └───────────────┘┌─┴─┐└───┘┌─┴─┐┌───────────────┐┌─┴─┐┌─┴─┐»\n",
       "«q_3: ─────────────────┤ X ├─────┤ X ├┤ Rz(params[3]) ├┤ X ├┤ X ├»\n",
       "«                      └───┘     └───┘└───────────────┘└───┘└───┘»\n",
       "«c: 4/═══════════════════════════════════════════════════════════»\n",
       "«                                                                »\n",
       "«                            ░ ┌───────────────┐ ░  ░ ┌─┐         \n",
       "«q_0: ───────────────────────░─┤ Rx(params[1]) ├─░──░─┤M├─────────\n",
       "«                            ░ ├───────────────┤ ░  ░ └╥┘┌─┐      \n",
       "«q_1: ───────────────────────░─┤ Rx(params[1]) ├─░──░──╫─┤M├──────\n",
       "«                            ░ ├───────────────┤ ░  ░  ║ └╥┘┌─┐   \n",
       "«q_2: ───────────────────■───░─┤ Rx(params[1]) ├─░──░──╫──╫─┤M├───\n",
       "«     ┌───────────────┐┌─┴─┐ ░ ├───────────────┤ ░  ░  ║  ║ └╥┘┌─┐\n",
       "«q_3: ┤ Rz(params[3]) ├┤ X ├─░─┤ Rx(params[1]) ├─░──░──╫──╫──╫─┤M├\n",
       "«     └───────────────┘└───┘ ░ └───────────────┘ ░  ░  ║  ║  ║ └╥┘\n",
       "«c: 4/═════════════════════════════════════════════════╩══╩══╩══╩═\n",
       "«                                                      0  1  2  3 "
      ]
     },
     "execution_count": 10,
     "metadata": {},
     "output_type": "execute_result"
    }
   ],
   "source": [
    "qaoa.get_circuit().draw()"
   ]
  },
  {
   "cell_type": "markdown",
   "id": "2b07b2d1",
   "metadata": {},
   "source": [
    "## QAOA simple optimization"
   ]
  },
  {
   "cell_type": "code",
   "execution_count": 11,
   "id": "89e20fef-0982-4cac-91d8-c35d53f6e6b6",
   "metadata": {},
   "outputs": [
    {
     "data": {
      "text/plain": [
       "(array([0.47528508, 1.22778158, 0.60818521, 1.19562008]), -3.923828125)"
      ]
     },
     "execution_count": 11,
     "metadata": {},
     "output_type": "execute_result"
    }
   ],
   "source": [
    "# QAOA execution (simple optimization)\n",
    "_, f = optims.simple_optimization(qaoa, method=method, seed=seed, shots=shots, verbose=verbose)\n",
    "_,f "
   ]
  }
 ],
 "metadata": {
  "kernelspec": {
   "display_name": "Python 3 (ipykernel)",
   "language": "python",
   "name": "python3"
  },
  "language_info": {
   "codemirror_mode": {
    "name": "ipython",
    "version": 3
   },
   "file_extension": ".py",
   "mimetype": "text/x-python",
   "name": "python",
   "nbconvert_exporter": "python",
   "pygments_lexer": "ipython3",
   "version": "3.11.0"
  }
 },
 "nbformat": 4,
 "nbformat_minor": 5
}
