{
 "cells": [
  {
   "cell_type": "markdown",
   "id": "0c94e598",
   "metadata": {},
   "source": [
    "# documentation.functions\n"
   ]
  },
  {
   "cell_type": "code",
   "execution_count": 1,
   "id": "0197ee91-5f34-4a0c-92a5-bd9008c0a85f",
   "metadata": {},
   "outputs": [],
   "source": [
    "import warnings\n",
    "warnings.filterwarnings('ignore')"
   ]
  },
  {
   "cell_type": "code",
   "execution_count": 2,
   "id": "63cec009",
   "metadata": {},
   "outputs": [],
   "source": [
    "import os\n",
    "os.chdir('..')"
   ]
  },
  {
   "cell_type": "markdown",
   "id": "596e2b5f-4b82-4e2b-9393-bad49d2b542d",
   "metadata": {},
   "source": [
    "Here we present the documentation for the functions `maxcut_utilities.py`, `qaoa_utilities.py` and `optimizers.py`, contained in the module `functions` of the `qaoa` project. These functions are to be used together and in conjunction with the `qaoa.py` class (see ...) to solve combinatorial optimization problems with Quantum Approximate Optimization Algorithms. \n",
    "```\n",
    "qaoa\n",
    "    |\n",
    "    |_ functions\n",
    "        |\n",
    "        |_ maxcut_utilities.py\n",
    "        |\n",
    "        |_ qaoa_optimizers.py\n",
    "        |\n",
    "        |_ qaoa_utilities.py\n",
    "        |\n",
    "        |_ symetry_utilities.py\n",
    "    |\n",
    "    .\n",
    "    .\n",
    "    .  \n",
    "```"
   ]
  },
  {
   "cell_type": "markdown",
   "id": "b6e9b628-083f-4c47-a185-6b253157c159",
   "metadata": {},
   "source": [
    "## maxcut_utilities\n",
    "The functions in `maxcut_utilities.py` are auxiliary functions that allow compute intermediary values (e.g. the cut-value associated to a given bit-string) to solve the MaxCut problem with qaoa-type strategies. "
   ]
  },
  {
   "cell_type": "code",
   "execution_count": 3,
   "id": "6dd491f2-a8ad-4400-9924-9e9bc7950948",
   "metadata": {},
   "outputs": [],
   "source": [
    "from functions import maxcut_utilities"
   ]
  },
  {
   "cell_type": "markdown",
   "id": "9462f9ce",
   "metadata": {},
   "source": [
    "### compute_max_cut_exactly\n",
    "`compute_max_cut_exactly(G)`\n",
    "\n",
    "Takes a graph created with the Problems class and returns the corresponding max-cut, calculated exactly with a brute-force approach.\n",
    "\n",
    "**Args**\n",
    "* `G` (graph): A graph representing the problem instance to be solved with qaoa. Note: `G` is an object created with the Problems class. (see...).\n",
    "\n",
    "**Returns**\n",
    "* `best_cost_brute` (int): The max-cut."
   ]
  },
  {
   "cell_type": "code",
   "execution_count": 4,
   "id": "81078011",
   "metadata": {},
   "outputs": [
    {
     "name": "stdout",
     "output_type": "stream",
     "text": [
      "6\n"
     ]
    }
   ],
   "source": [
    "import networkx \n",
    "from classes import Problems\n",
    "\n",
    "G = networkx.Graph()\n",
    "G.add_edges_from([[0,3],[0,4],[1,3],[1,4],[2,3],[2,4]])\n",
    "instance = Problems.Problems(G=G)\n",
    "maxcut = maxcut_utilities.compute_max_cut_exactly(instance)\n",
    "print(maxcut)"
   ]
  },
  {
   "cell_type": "markdown",
   "id": "67a90d54-6480-4da1-be25-33eb6e76379e",
   "metadata": {},
   "source": [
    "### invert_counts\n",
    "`invert_counts(counts)`\n",
    "\n",
    "Takes a dictionary with the counts of a Qiskit experiment (qaoa execution) and reorder it in order to match Qaiskit qubit notation conventions.\n",
    "\n",
    "**Args**\n",
    "* `counts` (dict): a dictionary with the counts related to the measurement of the qaoa circuit.\n",
    "\n",
    "**Returns**\n",
    "* `rearranged_counts` (dict): a rearranged dictionray where the keys are ordered followin Qiskit conventions."
   ]
  },
  {
   "cell_type": "code",
   "execution_count": 5,
   "id": "34c52998-a25d-4116-830c-40e19c06d993",
   "metadata": {},
   "outputs": [
    {
     "name": "stdout",
     "output_type": "stream",
     "text": [
      "{'00011': 1, '11000': 29, '11010': 24}\n"
     ]
    }
   ],
   "source": [
    "counts = {'11000': 1, '00011': 29, '01011': 24}\n",
    "rearranged_counts = maxcut_utilities.invert_counts(counts)\n",
    "print(rearranged_counts)"
   ]
  },
  {
   "cell_type": "markdown",
   "id": "0301c65f-f081-4cba-bec2-f919e65ad7c5",
   "metadata": {},
   "source": [
    "### get_maxcut_number_of_edges\n",
    "`get_maxcut_number_of_edges(G,x)`\n",
    "\n",
    "**Args**\n",
    "* `G` (graph): A graph representing the problem instance to be solved with qaoa. Note: `G` is an object created with the Problems class. (see...).\n",
    "* `x` (list): A list with the nodes of `G`, which is associated with a bit string of the current problem instance.\n",
    "\n",
    "**Returns**\n",
    "* `cut` (int): The cut-value corresponding to the node assignment (string) considered. Note: the `cut` is calculated as a negative value for compatibility reasons related to the use of `scipy.minimize`.\n",
    "\n"
   ]
  },
  {
   "cell_type": "code",
   "execution_count": 6,
   "id": "882f10b6-99b5-42e3-9861-2bfc62ca70a4",
   "metadata": {},
   "outputs": [
    {
     "name": "stdout",
     "output_type": "stream",
     "text": [
      "4\n"
     ]
    }
   ],
   "source": [
    "cut_value = maxcut_utilities.get_maxcut_number_of_edges(instance,\"10011\")\n",
    "print(-cut_value)"
   ]
  },
  {
   "cell_type": "markdown",
   "id": "ea9928ec-cc2d-43dc-a439-997f553def15",
   "metadata": {},
   "source": [
    "### compute_maxcut_energy\n",
    "`compute_maxcut_energy(G, counts, verbose)`\n",
    "\n",
    "**Args**\n",
    "* `G` (graph): A graph representing the problem instance to be solved with qaoa. Note: `G` is an object created with the Problems class.\n",
    "* `counts` (dict): a dictionary with the counts related to the measurement of the qaoa circuit.\n",
    "* `verbose` (bool): A boolean variable allowing the user to select the debugging mode (where extensive comments are provided). If True enters in debugging mode. The default is `False`.\n",
    "\n",
    "**Returns**\n",
    "* `-approximate_energy` (float): The approximate MaxCut value of current qaoa execution. Note: the `approximate_energy` returned with a minus sign for compatibility reasons related to the use of `scipy.minimize` and the previous functions."
   ]
  },
  {
   "cell_type": "code",
   "execution_count": 7,
   "id": "e259d08d-4236-4d76-85da-5b4a783015e0",
   "metadata": {},
   "outputs": [
    {
     "name": "stdout",
     "output_type": "stream",
     "text": [
      "5.074074074074074\n"
     ]
    }
   ],
   "source": [
    "approximate_result = maxcut_utilities.compute_maxcut_energy(instance,counts)\n",
    "print(approximate_result)"
   ]
  },
  {
   "cell_type": "markdown",
   "id": "0f49b9be",
   "metadata": {},
   "source": [
    "## qaoa_optimizers\n",
    "\n",
    "The functions contained in `qaoa_optimizers.py` are to be used to find optimal angles and optimal value of a qaoa problem instance. "
   ]
  },
  {
   "cell_type": "code",
   "execution_count": 8,
   "id": "2d661afc-9ec1-4c26-a5ab-74fb29cfd513",
   "metadata": {},
   "outputs": [
    {
     "name": "stdout",
     "output_type": "stream",
     "text": [
      " --------------------------- \n",
      "| INTIALIZING QAOA CLASS... |\n",
      " --------------------------- \n",
      "-> GETTING PROBLEM INSTANCE...\n"
     ]
    },
    {
     "data": {
      "image/png": "[encoded data removed]",
      "text/plain": [
       "<Figure size 640x480 with 1 Axes>"
      ]
     },
     "metadata": {},
     "output_type": "display_data"
    },
    {
     "name": "stdout",
     "output_type": "stream",
     "text": [
      "-> GETTING THE ANSATZ...\n",
      "     ┌───┐ ░                                                                   »\n",
      "q_0: ┤ H ├─░───■─────────────────────■────■────────────────────────────────────»\n",
      "     ├───┤ ░   │                     │    │        ┌───┐      ┌───────────────┐»\n",
      "q_1: ┤ H ├─░───┼─────────────────────┼────┼────────┤ X ├──────┤ Rz(params[3]) ├»\n",
      "     ├───┤ ░   │                     │    │        └─┬─┘      └───────────────┘»\n",
      "q_2: ┤ H ├─░───┼─────────────────────┼────┼──────────┼─────────────────────────»\n",
      "     ├───┤ ░ ┌─┴─┐┌───────────────┐┌─┴─┐  │          │                         »\n",
      "q_3: ┤ H ├─░─┤ X ├┤ Rz(params[3]) ├┤ X ├──┼──────────■─────────────────────────»\n",
      "     ├───┤ ░ └───┘└───────────────┘└───┘┌─┴─┐┌───────────────┐                 »\n",
      "q_4: ┤ H ├─░────────────────────────────┤ X ├┤ Rz(params[3]) ├─────────────────»\n",
      "     └───┘ ░                            └───┘└───────────────┘                 »\n",
      "c: 5/══════════════════════════════════════════════════════════════════════════»\n",
      "                                                                               »\n",
      "«                                                                          »\n",
      "«q_0: ──■──────────────────────────────────────────────────────────────────»\n",
      "«       │  ┌───┐     ┌───┐┌───────────────┐     ┌───┐                      »\n",
      "«q_1: ──┼──┤ X ├─────┤ X ├┤ Rz(params[3]) ├─────┤ X ├──────────────────────»\n",
      "«       │  └─┬─┘┌───┐└─┬─┘├───────────────┤┌───┐└─┬─┘┌───┐┌───────────────┐»\n",
      "«q_2: ──┼────┼──┤ X ├──┼──┤ Rz(params[3]) ├┤ X ├──┼──┤ X ├┤ Rz(params[3]) ├»\n",
      "«       │    │  └─┬─┘  │  └───────────────┘└─┬─┘  │  └─┬─┘└───────────────┘»\n",
      "«q_3: ──┼────■────■────┼─────────────────────■────┼────┼───────────────────»\n",
      "«     ┌─┴─┐            │                          │    │                   »\n",
      "«q_4: ┤ X ├────────────■──────────────────────────■────■───────────────────»\n",
      "«     └───┘                                                                »\n",
      "«c: 5/═════════════════════════════════════════════════════════════════════»\n",
      "«                                                                          »\n",
      "«           ░ ┌───────────────┐ ░  ░                                 »\n",
      "«q_0: ──────░─┤ Rx(params[0]) ├─░──░───■─────────────────────■────■──»\n",
      "«           ░ ├───────────────┤ ░  ░   │                     │    │  »\n",
      "«q_1: ──────░─┤ Rx(params[0]) ├─░──░───┼─────────────────────┼────┼──»\n",
      "«     ┌───┐ ░ ├───────────────┤ ░  ░   │                     │    │  »\n",
      "«q_2: ┤ X ├─░─┤ Rx(params[0]) ├─░──░───┼─────────────────────┼────┼──»\n",
      "«     └─┬─┘ ░ ├───────────────┤ ░  ░ ┌─┴─┐┌───────────────┐┌─┴─┐  │  »\n",
      "«q_3: ──┼───░─┤ Rx(params[0]) ├─░──░─┤ X ├┤ Rz(params[4]) ├┤ X ├──┼──»\n",
      "«       │   ░ ├───────────────┤ ░  ░ └───┘└───────────────┘└───┘┌─┴─┐»\n",
      "«q_4: ──■───░─┤ Rx(params[0]) ├─░──░────────────────────────────┤ X ├»\n",
      "«           ░ └───────────────┘ ░  ░                            └───┘»\n",
      "«c: 5/═══════════════════════════════════════════════════════════════»\n",
      "«                                                                    »\n",
      "«                                                                            »\n",
      "«q_0: ────────────────────────────────────■──────────────────────────────────»\n",
      "«           ┌───┐      ┌───────────────┐  │  ┌───┐     ┌───┐┌───────────────┐»\n",
      "«q_1: ──────┤ X ├──────┤ Rz(params[4]) ├──┼──┤ X ├─────┤ X ├┤ Rz(params[4]) ├»\n",
      "«           └─┬─┘      └───────────────┘  │  └─┬─┘┌───┐└─┬─┘├───────────────┤»\n",
      "«q_2: ────────┼───────────────────────────┼────┼──┤ X ├──┼──┤ Rz(params[4]) ├»\n",
      "«             │                           │    │  └─┬─┘  │  └───────────────┘»\n",
      "«q_3: ────────■───────────────────────────┼────■────■────┼───────────────────»\n",
      "«     ┌───────────────┐                 ┌─┴─┐            │                   »\n",
      "«q_4: ┤ Rz(params[4]) ├─────────────────┤ X ├────────────■───────────────────»\n",
      "«     └───────────────┘                 └───┘                                »\n",
      "«c: 5/═══════════════════════════════════════════════════════════════════════»\n",
      "«                                                                            »\n",
      "«                                           ░ ┌───────────────┐ ░  ░      »\n",
      "«q_0: ──────────────────────────────────────░─┤ Rx(params[1]) ├─░──░───■──»\n",
      "«          ┌───┐                            ░ ├───────────────┤ ░  ░   │  »\n",
      "«q_1: ─────┤ X ├────────────────────────────░─┤ Rx(params[1]) ├─░──░───┼──»\n",
      "«     ┌───┐└─┬─┘┌───┐┌───────────────┐┌───┐ ░ ├───────────────┤ ░  ░   │  »\n",
      "«q_2: ┤ X ├──┼──┤ X ├┤ Rz(params[4]) ├┤ X ├─░─┤ Rx(params[1]) ├─░──░───┼──»\n",
      "«     └─┬─┘  │  └─┬─┘└───────────────┘└─┬─┘ ░ ├───────────────┤ ░  ░ ┌─┴─┐»\n",
      "«q_3: ──■────┼────┼─────────────────────┼───░─┤ Rx(params[1]) ├─░──░─┤ X ├»\n",
      "«            │    │                     │   ░ ├───────────────┤ ░  ░ └───┘»\n",
      "«q_4: ───────■────■─────────────────────■───░─┤ Rx(params[1]) ├─░──░──────»\n",
      "«                                           ░ └───────────────┘ ░  ░      »\n",
      "«c: 5/════════════════════════════════════════════════════════════════════»\n",
      "«                                                                         »\n",
      "«                                                                            »\n",
      "«q_0: ───────────────────■────■──────────────────────────────────────■───────»\n",
      "«                        │    │        ┌───┐      ┌───────────────┐  │  ┌───┐»\n",
      "«q_1: ───────────────────┼────┼────────┤ X ├──────┤ Rz(params[5]) ├──┼──┤ X ├»\n",
      "«                        │    │        └─┬─┘      └───────────────┘  │  └─┬─┘»\n",
      "«q_2: ───────────────────┼────┼──────────┼───────────────────────────┼────┼──»\n",
      "«     ┌───────────────┐┌─┴─┐  │          │                           │    │  »\n",
      "«q_3: ┤ Rz(params[5]) ├┤ X ├──┼──────────■───────────────────────────┼────■──»\n",
      "«     └───────────────┘└───┘┌─┴─┐┌───────────────┐                 ┌─┴─┐     »\n",
      "«q_4: ──────────────────────┤ X ├┤ Rz(params[5]) ├─────────────────┤ X ├─────»\n",
      "«                           └───┘└───────────────┘                 └───┘     »\n",
      "«c: 5/═══════════════════════════════════════════════════════════════════════»\n",
      "«                                                                            »\n",
      "«                                                                      ░ »\n",
      "«q_0: ─────────────────────────────────────────────────────────────────░─»\n",
      "«          ┌───┐┌───────────────┐     ┌───┐                            ░ »\n",
      "«q_1: ─────┤ X ├┤ Rz(params[5]) ├─────┤ X ├────────────────────────────░─»\n",
      "«     ┌───┐└─┬─┘├───────────────┤┌───┐└─┬─┘┌───┐┌───────────────┐┌───┐ ░ »\n",
      "«q_2: ┤ X ├──┼──┤ Rz(params[5]) ├┤ X ├──┼──┤ X ├┤ Rz(params[5]) ├┤ X ├─░─»\n",
      "«     └─┬─┘  │  └───────────────┘└─┬─┘  │  └─┬─┘└───────────────┘└─┬─┘ ░ »\n",
      "«q_3: ──■────┼─────────────────────■────┼────┼─────────────────────┼───░─»\n",
      "«            │                          │    │                     │   ░ »\n",
      "«q_4: ───────■──────────────────────────■────■─────────────────────■───░─»\n",
      "«                                                                      ░ »\n",
      "«c: 5/═══════════════════════════════════════════════════════════════════»\n",
      "«                                                                        »\n",
      "«     ┌───────────────┐ ░  ░ ┌─┐            \n",
      "«q_0: ┤ Rx(params[2]) ├─░──░─┤M├────────────\n",
      "«     ├───────────────┤ ░  ░ └╥┘┌─┐         \n",
      "«q_1: ┤ Rx(params[2]) ├─░──░──╫─┤M├─────────\n",
      "«     ├───────────────┤ ░  ░  ║ └╥┘┌─┐      \n",
      "«q_2: ┤ Rx(params[2]) ├─░──░──╫──╫─┤M├──────\n",
      "«     ├───────────────┤ ░  ░  ║  ║ └╥┘┌─┐   \n",
      "«q_3: ┤ Rx(params[2]) ├─░──░──╫──╫──╫─┤M├───\n",
      "«     ├───────────────┤ ░  ░  ║  ║  ║ └╥┘┌─┐\n",
      "«q_4: ┤ Rx(params[2]) ├─░──░──╫──╫──╫──╫─┤M├\n",
      "«     └───────────────┘ ░  ░  ║  ║  ║  ║ └╥┘\n",
      "«c: 5/════════════════════════╩══╩══╩══╩══╩═\n",
      "«                             0  1  2  3  4 \n",
      "-> THE QAOA CLASS WAS INITIALIZED WITH THE FOLLOWING PARAMETERS.\n",
      "\t * Number of layers: p = 3;\n",
      "\t * Graph: G = toy_graph;\n",
      "\t * Angles:\n",
      "\t\t - betas = [1.5394425488183923, 1.4511537386946374, 0.41949284559101646];\n",
      "\t\t - gammas = [4.048287862553348, 1.0411182294310912, 1.238792927685793];\n",
      "\t * Mixer Hamiltonian type: 'x';\n",
      "\t * Random seed: seed = None;\n",
      "\t * Measurement setting: measure = True.\n"
     ]
    }
   ],
   "source": [
    "from classes import Qaoa\n",
    "\n",
    "instance = Problems.Problems()\n",
    "qaoa = Qaoa.Qaoa(p=3, G=instance)"
   ]
  },
  {
   "cell_type": "markdown",
   "id": "13a8595a-0865-4f2a-9a23-7892c7f6756b",
   "metadata": {},
   "source": [
    "### objective_function\n",
    "`objective_function(init_point, circuit)`\n",
    "\n",
    "Gets the objective function for the qaoa-optimization process.\n",
    "\n",
    "**Args**\n",
    "* `init_point` (list): initial guess of the optimal angles for the qaoa instance.\n",
    "* `circuit` (classes.Qaoa.Qaoa): qaoa instance.\n",
    "\n",
    "**Returns**\n",
    "* `- energy` (float): the MaxCut value associated to the given initial angles. Note: `energy` is positive, but, for technical reasons related to the use of `scipy.minimize), the returned value should be negative."
   ]
  },
  {
   "cell_type": "code",
   "execution_count": 9,
   "id": "148f7e46-8487-4da3-85af-94b666fceaa6",
   "metadata": {},
   "outputs": [
    {
     "name": "stdout",
     "output_type": "stream",
     "text": [
      "energy -2.85\n"
     ]
    }
   ],
   "source": [
    "from functions import qaoa_optimizers \n",
    "\n",
    "init_point = qaoa.betas + qaoa.gammas\n",
    "maxcut_value = qaoa_optimizers.objective_function(init_point,qaoa,shots=100)\n",
    "print(\"energy\", maxcut_value)"
   ]
  },
  {
   "cell_type": "markdown",
   "id": "b1befc0a-49bf-4af9-afb0-d6e83080175d",
   "metadata": {},
   "source": [
    "### callback\n",
    "`callback(x)`\n",
    "\n",
    "A callable called after each iteration whose results are stored in a global variable called `num_evaluations` which starts from zero and is incremented by one each time `callback` is executed. This function is passed to the `callback` option of the `scipy.minimize` method.\n",
    "\n",
    "**Args**\n",
    "* `x`(list): An intermediate optimal result.\n"
   ]
  },
  {
   "cell_type": "code",
   "execution_count": 10,
   "id": "02cdfba7-95cd-4793-bf44-415335ccfd05",
   "metadata": {},
   "outputs": [],
   "source": [
    "qaoa_optimizers.callback([])"
   ]
  },
  {
   "cell_type": "markdown",
   "id": "e55c425a-2875-437e-80e4-3f286d884a7f",
   "metadata": {},
   "source": [
    "### simple_optimization\n",
    "`simple_optimization(circuit, method, seed, verbose)`\n",
    "\n",
    "**Args**\n",
    "\n",
    "* `circuit` (classes.Qaoa.Qaoa): qaoa instance;\n",
    "* `method` (str): scipy.minimize optimization method. The default si COBYLA.\n",
    "* `verbose` (bool): A boolean variable allowing the user to select the debugging mode (where extensive comments are provided). If True enters in debugging mode. The default is `False`.\n",
    "\n",
    "**Retruns**\n",
    "\n",
    "* `(optimal_angles, optimal value)` (tuple): Optimized angles and optimal value."
   ]
  },
  {
   "cell_type": "code",
   "execution_count": 11,
   "id": "9f0b5970-3cc7-4091-aaa0-61253fb5fdc1",
   "metadata": {
    "scrolled": true
   },
   "outputs": [
    {
     "name": "stdout",
     "output_type": "stream",
     "text": [
      " --------------------------------- \n",
      "| PARAMETERS FOR THE OPTIMIZATION. |\n",
      " --------------------------------- \n",
      "\t * betas: [1.5394425488183923, 1.4511537386946374, 0.41949284559101646]\n",
      "\t * gammas: [4.048287862553348, 1.0411182294310912, 1.238792927685793]\n",
      "\t * init_point: [1.5394425488183923, 1.4511537386946374, 0.41949284559101646, 4.048287862553348, 1.0411182294310912, 1.238792927685793]\n",
      " --------------- \n",
      "| OPTIMIZING... |\n",
      " --------------- \n",
      " --------- \n",
      "| RESULTS. |\n",
      " --------- \n",
      "\t * optimal_anlges: [1.33371134 2.4342898  0.3989869  4.05154377 1.10656761 1.12648478]\n",
      "\t * optimal_value: 4.939453125\n"
     ]
    }
   ],
   "source": [
    "x, f = qaoa_optimizers.simple_optimization(qaoa)"
   ]
  },
  {
   "cell_type": "markdown",
   "id": "bbb3462e-0539-45e2-bd70-dc45f39cc080",
   "metadata": {},
   "source": [
    "## qaoa_utilities\n",
    "The functions in `qaoa_utilities.py` are auxiliary functions to generate qaoa-parameters, change the qaoa-mixer operator, and so on..."
   ]
  },
  {
   "cell_type": "code",
   "execution_count": 12,
   "id": "dcee5ef5-ce15-4710-a9ae-6d8b11ebc094",
   "metadata": {},
   "outputs": [],
   "source": [
    "from functions import qaoa_utilities"
   ]
  },
  {
   "cell_type": "markdown",
   "id": "4e3a3b4e-302c-4694-a3f2-ccfdfc669be5",
   "metadata": {},
   "source": [
    "### generate_parameters\n",
    "`generate_parameters(n, k, randomness, seed)`\n",
    "\n",
    "Generates a list of random angles.\n",
    "\n",
    "**Args**\n",
    "* `n` (int): Size of the random sample.\n",
    "* `k` (int): a multiplicative factor to generate samples in [0,kπ).\n",
    "* `randomness` (str): Type if random sample. The default is 'uniform'. Note: Only uniform randomness has been implemented.\n",
    "* `seed` (int): A seed for the pseudorandom generator. Needed for reproducibility. the default is None\n",
    "\n",
    "**Returns**\n",
    "* `angles` (list): A list of random angles.\n"
   ]
  },
  {
   "cell_type": "code",
   "execution_count": 13,
   "id": "e40595a0-cc91-4b64-9188-f93225384159",
   "metadata": {},
   "outputs": [
    {
     "name": "stdout",
     "output_type": "stream",
     "text": [
      "[2.0197381706253927, 0.14738660368522355]\n"
     ]
    }
   ],
   "source": [
    "two_random_angles = qaoa_utilities.generate_parameters(2,1)\n",
    "print(two_random_angles)"
   ]
  },
  {
   "cell_type": "markdown",
   "id": "ba0cc45c-f33f-49ea-bb6b-298db5d8446b",
   "metadata": {},
   "source": [
    "## symmetry_utilities\n",
    "The functions in `symmetry_utilities` provide informations about the symmetries in a graph instance (number of automorphisms, symmetry generatores, etc...)."
   ]
  },
  {
   "cell_type": "code",
   "execution_count": 14,
   "id": "3e8e6475-6657-4ebb-ba9d-36e250f78b07",
   "metadata": {},
   "outputs": [],
   "source": [
    "#pip install --no-binary pynauty pynauty"
   ]
  },
  {
   "cell_type": "code",
   "execution_count": 15,
   "id": "e3598639-1c35-4288-9ee9-972b2daeb99b",
   "metadata": {
    "scrolled": true
   },
   "outputs": [],
   "source": [
    "from functions import symmetry_utilities"
   ]
  },
  {
   "cell_type": "markdown",
   "id": "7eb716c1-dd4e-4894-a3e2-5f8cb3695fd1",
   "metadata": {},
   "source": [
    "### get_number_of_automorphisms\n",
    "`get_number_of_automorphisms(G, adjacency_dict)`\n",
    "\n",
    "Calculates the size of the automorphism group Aut(G) of the graph G.\n",
    "\n",
    "**Args**\n",
    "* `G` (graph): The graph whose symmetries are to be studied. Note: `G` is an object created with the Problems class.\n",
    "* `adjacency_dict` (dict): The adjacency dictionary of the current graph instance. Note: `adjacency_dict` should be created with the `get_adjacency_dict()` method of the Problems class.\n",
    "\n",
    "**Returns**\n",
    "* `num_automorphisms` (int): The size of Aut(G). "
   ]
  },
  {
   "cell_type": "code",
   "execution_count": 16,
   "id": "4d381853-dc81-44a3-8d69-b04b4e6a6375",
   "metadata": {},
   "outputs": [
    {
     "name": "stdout",
     "output_type": "stream",
     "text": [
      "12\n"
     ]
    }
   ],
   "source": [
    "instance = Problems.Problems(G=G)\n",
    "adjacency_dict = instance.get_adjacency_dict()\n",
    "num_automorphisms = symmetry_utilities.get_number_of_automorphisms(G=instance, adjacency_dict=adjacency_dict)\n",
    "print(num_automorphisms)"
   ]
  },
  {
   "cell_type": "markdown",
   "id": "704454f7-fb54-488c-944b-386de3c373dd",
   "metadata": {},
   "source": [
    "### get_symmetry_generators\n",
    "`get_symmetry_generators(G adjacency_dict)`\n",
    "\n",
    "Calculates the generators of Aut(G).\n",
    "\n",
    "**Args**\n",
    "* `G` (graph): The graph whose symmetries are to be studied. Note: `G` is an object created with the Problems class.\n",
    "* `adjacency_dict` (dict): The adjacency dictionary of the current graph instance. Note: `adjacency_dict` should be created with the `get_adjacency_dict()` method of the Problems class.\n",
    "\n",
    "**Returns**\n",
    "* `generators ` (ndarray): The generators of Aut(G) as a matrix where each generator is a row. "
   ]
  },
  {
   "cell_type": "code",
   "execution_count": 17,
   "id": "de7c6187-825d-4522-9252-d566cb7d5e82",
   "metadata": {},
   "outputs": [
    {
     "name": "stdout",
     "output_type": "stream",
     "text": [
      "[[0, 1, 2, 4, 3], [0, 2, 1, 3, 4], [1, 0, 2, 3, 4]]\n"
     ]
    }
   ],
   "source": [
    "generators = symmetry_utilities.get_symmetry_generators(G=instance, adjacency_dict=adjacency_dict)\n",
    "print(generators)"
   ]
  },
  {
   "cell_type": "markdown",
   "id": "7478657a-b7aa-4501-a8f6-fddc9e4e44de",
   "metadata": {},
   "source": [
    "get_symmetry_orbits(G: Graph, adjacency_dict: dict) -> Tuple[int, List]:\n",
    "### get_symmetry_orbits\n",
    "`get_symmetry_orbits(G adjacency_dict)`\n",
    "\n",
    "Calculates the orbits in Aut(G) and the size of the orbit subgroup.\n",
    "\n",
    "**Args**\n",
    "* `G` (graph): The graph whose symmetries are to be studied. Note: `G` is an object created with the Problems class.\n",
    "* `adjacency_dict` (dict): The adjacency dictionary of the current graph instance. Note: `adjacency_dict` should be created with the `get_adjacency_dict()` method of the Problems class.\n",
    "\n",
    "**Returns**\n",
    "* `num_orbits, orbits` (tuple): number of orbits, orbits."
   ]
  },
  {
   "cell_type": "code",
   "execution_count": 18,
   "id": "6dd90aee-b346-432f-80c6-cfcf1543dc92",
   "metadata": {},
   "outputs": [
    {
     "name": "stdout",
     "output_type": "stream",
     "text": [
      "2 [0, 0, 0, 3, 3]\n"
     ]
    }
   ],
   "source": [
    "num_orbits, orbits = symmetry_utilities.get_symmetry_orbits(G=instance, adjacency_dict=adjacency_dict)\n",
    "print(num_orbits, orbits)"
   ]
  }
 ],
 "metadata": {
  "kernelspec": {
   "display_name": "Python 3 (ipykernel)",
   "language": "python",
   "name": "python3"
  },
  "language_info": {
   "codemirror_mode": {
    "name": "ipython",
    "version": 3
   },
   "file_extension": ".py",
   "mimetype": "text/x-python",
   "name": "python",
   "nbconvert_exporter": "python",
   "pygments_lexer": "ipython3",
   "version": "3.11.0"
  }
 },
 "nbformat": 4,
 "nbformat_minor": 5
}
